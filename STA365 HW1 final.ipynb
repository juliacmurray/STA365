{
 "cells": [
  {
   "cell_type": "code",
   "execution_count": 109,
   "id": "779a47bd",
   "metadata": {},
   "outputs": [
    {
     "data": {
      "text/plain": [
       "array([1])"
      ]
     },
     "execution_count": 109,
     "metadata": {},
     "output_type": "execute_result"
    }
   ],
   "source": [
    "from scipy import stats\n",
    "#How to code a binomial dist\n",
    "stats.binom(n=1,p=0.7).rvs(size=1)\n",
    "#stats.bernoulli(p=0.5).rvs(size=1)"
   ]
  },
  {
   "cell_type": "markdown",
   "id": "16ca0c92",
   "metadata": {},
   "source": [
    "EXPLAINING THE PROCESS\n",
    "\n",
    "1. Initializing the three games, nicknamed Red, Blue, and Green\n",
    "- I created 3 beta-binomial distributions, initializing different probabilities of success for each binomial distribution (p=0.1 for Red, 0.5 for Blue, and 0.9 for Green.\n",
    "- From there, I found the joint distribution and calculated the alpha and beta values corresponding to that beta distribution. I called these the posterior alpha and posterior beta values\n",
    "\n",
    "2. What's the data?\n",
    "- After building those three models, I took a sample from each one, using the posterior alpha and posterior beta values calculated in the last step and using those as the hyperparameters for a beta distribution\n",
    "\n",
    "3. What's the update?\n",
    "- From those samples, I took the maximum to decide which model gave me the highest likelihood of success.\n",
    "- The model with the highest likelihood of success had its prior updated such that the alpha value and beta value in the beta distribution were replaced with the posterior alpha and posterior beta values. No change was made to the priors of the models that did not \"win\"\n",
    "\n",
    "4. Deciding when to stop exploiting and start exploring\n",
    "- After 10 successive updates to one model, I conclude that that model is the best model and conclude that it should be the exploited model"
   ]
  },
  {
   "cell_type": "code",
   "execution_count": 146,
   "id": "2feead50",
   "metadata": {},
   "outputs": [
    {
     "name": "stdout",
     "output_type": "stream",
     "text": [
      "Exploration Over - Exploit Red\n"
     ]
    }
   ],
   "source": [
    "\n",
    "    n = 1\n",
    "    x = 1\n",
    "\n",
    "    red_alpha = 1\n",
    "    red_beta = 1\n",
    "\n",
    "    blue_alpha = 1\n",
    "    blue_beta = 1\n",
    "\n",
    "    gr_alpha = 1\n",
    "    gr_beta = 1\n",
    "\n",
    "    r_count = 0\n",
    "    b_count = 0\n",
    "    g_count = 0\n",
    "\n",
    "    while r_count <= 10 and b_count <= 10 and g_count <=10:\n",
    "        ## Initializing three games, nicknamed Red, Blue, and Green ##\n",
    "\n",
    "        #Red\n",
    "        red_like = stats.binom.pmf(n=n, k=x, p=0.1)\n",
    "        red_prior = stats.beta(a=red_alpha,b=red_beta).pdf(0.1)\n",
    "        red_joint = red_like*red_prior\n",
    "        red_post_alpha = x + red_alpha\n",
    "        red_post_beta = n - x + red_beta\n",
    "\n",
    "        #Blue\n",
    "        blue_like = stats.binom.pmf(n=n, k=x, p=0.5)\n",
    "        blue_prior = stats.beta(a=blue_alpha,b=blue_beta).pdf(0.5)\n",
    "        blue_joint = blue_like*blue_prior\n",
    "        blue_post_alpha = x + blue_alpha\n",
    "        blue_post_beta = n - x + blue_beta\n",
    "\n",
    "        #Green\n",
    "        gr_like = stats.binom.pmf(n=n, k=x, p=0.9)\n",
    "        gr_prior = stats.beta(a=gr_alpha,b=gr_beta).pdf(0.9)\n",
    "        gr_joint = gr_like*gr_prior\n",
    "        gr_post_alpha = x + gr_alpha\n",
    "        gr_post_beta = n - x + gr_beta\n",
    "\n",
    "\n",
    "        ## What's the data? Sampling from each posterior distribution ##\n",
    "        red_sample = stats.beta.rvs(red_post_alpha, red_post_beta, size=1)\n",
    "        blue_sample = stats.beta.rvs(blue_post_alpha, blue_post_beta, size=1)\n",
    "        gr_sample = stats.beta.rvs(gr_post_alpha, gr_post_beta, size=1)\n",
    "\n",
    "\n",
    "        # What's the update? How each prior gets updated and choosing which prior gets updates ##\n",
    "        max_samp = max(red_sample, blue_sample, gr_sample)\n",
    "        if max_samp == red_sample:\n",
    "            red_alpha = red_post_alpha\n",
    "            red_beta = red_post_beta\n",
    "            #print(\"Red Rolls Highest\")\n",
    "            r_count += 1\n",
    "            b_count = 0\n",
    "            g_count = 0\n",
    "        if max_samp == blue_sample:\n",
    "            blue_alpha = blue_post_alpha\n",
    "            blue_beta = blue_post_beta\n",
    "            #print(\"Blue Rolls Highest\")\n",
    "            r_count = 0\n",
    "            b_count += 1\n",
    "            g_count = 0\n",
    "        if max_samp == gr_sample:\n",
    "            gr_alpha = gr_post_alpha\n",
    "            gr_beta = gr_post_beta\n",
    "            #print(\"Green Rolls Highest\")\n",
    "            r_count = 0\n",
    "            b_count = 0\n",
    "            g_count += 1\n",
    "        n += 1\n",
    "\n",
    "\n",
    "    ## Deciding when to stop exploring and start exploiting ##\n",
    "    if r_count > 10:\n",
    "        print(\"Exploration Over - Exploit Red\")\n",
    "    if b_count > 10:\n",
    "        print(\"Exploration Over - Exploit Blue\")\n",
    "    if g_count > 10:\n",
    "        print(\"Exploration Over - Exploit Green\")\n"
   ]
  },
  {
   "cell_type": "code",
   "execution_count": 137,
   "id": "fd15a8b1",
   "metadata": {},
   "outputs": [
    {
     "data": {
      "text/plain": [
       "0.9999999999999994"
      ]
     },
     "execution_count": 137,
     "metadata": {},
     "output_type": "execute_result"
    }
   ],
   "source": []
  }
 ],
 "metadata": {
  "kernelspec": {
   "display_name": "Python 3 (ipykernel)",
   "language": "python",
   "name": "python3"
  },
  "language_info": {
   "codemirror_mode": {
    "name": "ipython",
    "version": 3
   },
   "file_extension": ".py",
   "mimetype": "text/x-python",
   "name": "python",
   "nbconvert_exporter": "python",
   "pygments_lexer": "ipython3",
   "version": "3.11.6"
  }
 },
 "nbformat": 4,
 "nbformat_minor": 5
}
