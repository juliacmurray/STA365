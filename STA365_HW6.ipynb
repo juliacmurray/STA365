{
  "nbformat": 4,
  "nbformat_minor": 0,
  "metadata": {
    "colab": {
      "provenance": []
    },
    "kernelspec": {
      "name": "python3",
      "display_name": "Python 3"
    },
    "language_info": {
      "name": "python"
    }
  },
  "cells": [
    {
      "cell_type": "markdown",
      "source": [
        "# Homework 6: pt 1"
      ],
      "metadata": {
        "id": "1XpljbWYxBPk"
      }
    },
    {
      "cell_type": "code",
      "source": [
        "import pandas as pd\n",
        "import pymc as pm\n",
        "import numpy as np\n",
        "import arviz as az\n",
        "from scipy import stats\n",
        "import matplotlib.pyplot as plt"
      ],
      "metadata": {
        "id": "k2LK-PA1x2H3"
      },
      "execution_count": 1,
      "outputs": []
    },
    {
      "cell_type": "code",
      "source": [
        "#Dataset can be found here: https://www.kaggle.com/datasets/yakhyojon/national-basketball-association-nba\n",
        "url = 'https://raw.githubusercontent.com/juliacmurray/STA365/main/STA365%20nba-players.csv'\n",
        "df = pd.read_csv(url, index_col=0)\n"
      ],
      "metadata": {
        "id": "0HGS_wA1xF6B"
      },
      "execution_count": 7,
      "outputs": []
    },
    {
      "cell_type": "code",
      "source": [
        "X = df.filter(items=['min', 'pts', '3p_made']) #predict based on worry about vaccine side effects, worry about h1n1, and if respondent is a healthcare worker\n",
        "Y = df.filter(items=['target_5yrs']) #whether respondent got vaccinated against h1n1\n",
        "p = 3 #number of parameters"
      ],
      "metadata": {
        "id": "xpkOqbmGJFHc"
      },
      "execution_count": 8,
      "outputs": []
    },
    {
      "cell_type": "code",
      "source": [
        "#Testing OG code\n",
        "with pm.Model() as MLR:\n",
        "  betas = pm.MvNormal('betas', mu = np.zeros((p,1)), cov = np.eye(p), shape = (p,1))\n",
        "  sigma = pm.TruncatedNormal('sigma', mu = 1, sigma = 1, lower = 0)\n",
        "  y = pm.Normal('y', mu = pm.math.dot(X, betas), sigma = sigma)\n",
        "  link = pm.math.invlogit(y)\n",
        "  preds = pm.Bernoulli('preds', p = link, observed = Y)\n",
        "\n",
        "with MLR:\n",
        "  idata = pm.sample()"
      ],
      "metadata": {
        "colab": {
          "base_uri": "https://localhost:8080/",
          "height": 57
        },
        "id": "30Ad6Une1HOc",
        "outputId": "f4b72882-a34e-4ad9-8b8a-f22f9a726565"
      },
      "execution_count": 14,
      "outputs": [
        {
          "output_type": "display_data",
          "data": {
            "text/plain": [
              "<IPython.core.display.HTML object>"
            ],
            "text/html": [
              "\n",
              "<style>\n",
              "    /* Turns off some styling */\n",
              "    progress {\n",
              "        /* gets rid of default border in Firefox and Opera. */\n",
              "        border: none;\n",
              "        /* Needs to be in here for Safari polyfill so background images work as expected. */\n",
              "        background-size: auto;\n",
              "    }\n",
              "    progress:not([value]), progress:not([value])::-webkit-progress-bar {\n",
              "        background: repeating-linear-gradient(45deg, #7e7e7e, #7e7e7e 10px, #5c5c5c 10px, #5c5c5c 20px);\n",
              "    }\n",
              "    .progress-bar-interrupted, .progress-bar-interrupted::-webkit-progress-bar {\n",
              "        background: #F44336;\n",
              "    }\n",
              "</style>\n"
            ]
          },
          "metadata": {}
        },
        {
          "output_type": "display_data",
          "data": {
            "text/plain": [
              "<IPython.core.display.HTML object>"
            ],
            "text/html": [
              "\n",
              "    <div>\n",
              "      <progress value='2000' class='' max='2000' style='width:300px; height:20px; vertical-align: middle;'></progress>\n",
              "      100.00% [2000/2000 05:35&lt;00:00 Sampling chain 0, 0 divergences]\n",
              "    </div>\n",
              "    "
            ]
          },
          "metadata": {}
        },
        {
          "output_type": "display_data",
          "data": {
            "text/plain": [
              "<IPython.core.display.HTML object>"
            ],
            "text/html": [
              "\n",
              "<style>\n",
              "    /* Turns off some styling */\n",
              "    progress {\n",
              "        /* gets rid of default border in Firefox and Opera. */\n",
              "        border: none;\n",
              "        /* Needs to be in here for Safari polyfill so background images work as expected. */\n",
              "        background-size: auto;\n",
              "    }\n",
              "    progress:not([value]), progress:not([value])::-webkit-progress-bar {\n",
              "        background: repeating-linear-gradient(45deg, #7e7e7e, #7e7e7e 10px, #5c5c5c 10px, #5c5c5c 20px);\n",
              "    }\n",
              "    .progress-bar-interrupted, .progress-bar-interrupted::-webkit-progress-bar {\n",
              "        background: #F44336;\n",
              "    }\n",
              "</style>\n"
            ]
          },
          "metadata": {}
        },
        {
          "output_type": "display_data",
          "data": {
            "text/plain": [
              "<IPython.core.display.HTML object>"
            ],
            "text/html": [
              "\n",
              "    <div>\n",
              "      <progress value='2000' class='' max='2000' style='width:300px; height:20px; vertical-align: middle;'></progress>\n",
              "      100.00% [2000/2000 08:00&lt;00:00 Sampling chain 1, 0 divergences]\n",
              "    </div>\n",
              "    "
            ]
          },
          "metadata": {}
        }
      ]
    },
    {
      "cell_type": "markdown",
      "source": [
        "# Pt 2\n",
        "**Ridge Regression L2 Penalty Derivation (with $b_i = 0$ and $σ = 1$)**\n",
        "$$posterior of \\beta ∝p(\\beta | x) * p(\\beta)$$\n",
        "$$= \\frac{1}{\\sqrt{2π}}e^{\\frac{-(y - x^T \\beta)^2}{2}} *\n",
        "\\frac{1}{\\sqrt{2π}} e^{\\frac{-1}{2} (\\frac{\\beta_i}{s_i})^2}$$\n",
        "$$∝e^{\\frac{-(y - x^T \\beta)^2}{2}}e^{\\frac{-1}{2} (\\frac{\\beta_i}{s_i})^2}$$\n",
        "$$= e^{\\frac{-(y - x^T \\beta)^2}{2} + \\frac{-1}{2} (\\frac{\\beta_i}{s_i})^2}$$\n",
        "Taking the negative log, we get:\n",
        "$$\\frac{1}{2} ∑(y - x^T_i \\beta)^2 + ∑ \\frac{\\beta_i^2}{2s_i^2}$$\n",
        "Take $s_i^2 = \\frac{1}{2λ}$:\n",
        "$$\\frac{1}{2} ∑(y - x^T_i \\beta)^2 + \\lambda ∑ \\beta_i^2$$\n",
        "which is the L2 penalty\n",
        "\n",
        "**Lasso Regression L1 Penalty Derivation (with $b_i = 0$ and $σ = 1$)**\n",
        "$$posterior of \\beta ∝p(\\beta | x) * p(\\beta)$$\n",
        "$$= \\frac{1}{\\sqrt{2π}}e^{\\frac{-(y - x^T \\beta)^2}{2}} *\n",
        "\\frac{1}{{2b}} e^{-\\frac{|\\beta_i|}{s_i}}$$\n",
        "$$∝e^{\\frac{-(y - x^T \\beta)^2}{2}}e^{-\\frac{|\\beta_i|}{s_i}}$$\n",
        "Taking the negative log, we get:\n",
        "$$\\frac{1}{2} \\sum (y - x^T_i \\beta)^2 + \\sum \\frac{| \\beta | }{s_i}$$\n",
        "Take $s_i = 1/λ$:\n",
        "$$\\frac{1}{2} \\sum (y - x^T_i \\beta)^2 + λ\\sum | \\beta |$$\n",
        "which is the L1 penalty\n"
      ],
      "metadata": {
        "id": "9GQ1Ndi5MS0J"
      }
    }
  ]
}